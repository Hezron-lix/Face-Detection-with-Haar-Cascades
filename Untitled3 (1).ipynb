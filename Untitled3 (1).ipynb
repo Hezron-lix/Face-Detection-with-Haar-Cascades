{
 "cells": [
  {
   "cell_type": "code",
   "execution_count": null,
   "id": "49f60623-1583-4f48-a3b3-63a88ab11c1d",
   "metadata": {},
   "outputs": [],
   "source": [
    "import cv2\n",
    "\n",
    "# Load cascade manually from current directory\n",
    "face_cascade = cv2.CascadeClassifier('haarcascade_frontalface_default.xml')\n",
    "\n",
    "# Read the image\n",
    "image = cv2.imread(' pics.png')\n",
    "\n",
    "# Check if image was loaded\n",
    "if image is None:\n",
    "    print(\"Error: Image not found.\")\n",
    "else:\n",
    "    # Convert to grayscale\n",
    "    gray = cv2.cvtColor(image, cv2.COLOR_BGR2GRAY)\n",
    "\n",
    "    # Detect faces\n",
    "    faces = face_cascade.detectMultiScale(gray, scaleFactor=1.1, minNeighbors=5)\n",
    "\n",
    "    # Draw rectangles\n",
    "    for (x, y, w, h) in faces:\n",
    "        cv2.rectangle(image, (x, y), (x + w, y + h), (255, 0, 0), 2)\n",
    "\n",
    "    # Get screen resolution\n",
    "    screen_res = 1920, 1080  # You can change this based on your screen\n",
    "    scale_width = screen_res[0] / image.shape[1]\n",
    "    scale_height = screen_res[1] / image.shape[0]\n",
    "    scale = min(scale_width, scale_height)\n",
    "\n",
    "    window_width = int(image.shape[1] * scale)\n",
    "    window_height = int(image.shape[0] * scale)\n",
    "\n",
    "    # Resize image\n",
    "    resized_image = cv2.resize(image, (window_width, window_height))\n",
    "\n",
    "    # Show image\n",
    "    cv2.imshow('Detected Faces', resized_image)\n",
    "    cv2.waitKey(0)\n",
    "    cv2.destroyAllWindows()\n"
   ]
  },
  {
   "cell_type": "code",
   "execution_count": null,
   "id": "3c9fd3e3-1014-42c2-884e-e3505fcb14f8",
   "metadata": {},
   "outputs": [],
   "source": []
  }
 ],
 "metadata": {
  "kernelspec": {
   "display_name": "Python [conda env:base] *",
   "language": "python",
   "name": "conda-base-py"
  },
  "language_info": {
   "codemirror_mode": {
    "name": "ipython",
    "version": 3
   },
   "file_extension": ".py",
   "mimetype": "text/x-python",
   "name": "python",
   "nbconvert_exporter": "python",
   "pygments_lexer": "ipython3",
   "version": "3.11.3"
  }
 },
 "nbformat": 4,
 "nbformat_minor": 5
}
